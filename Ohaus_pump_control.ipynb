{
 "cells": [
  {
   "cell_type": "code",
   "execution_count": 1,
   "id": "f0e8af82-6abc-4196-a0fe-edeeb8bc3810",
   "metadata": {},
   "outputs": [
    {
     "ename": "SerialException",
     "evalue": "[Errno 2] could not open port /dev/cu.usbserial-10: [Errno 2] No such file or directory: '/dev/cu.usbserial-10'",
     "output_type": "error",
     "traceback": [
      "\u001b[0;31m---------------------------------------------------------------------------\u001b[0m",
      "\u001b[0;31mFileNotFoundError\u001b[0m                         Traceback (most recent call last)",
      "\u001b[0;32m~/opt/anaconda3/lib/python3.9/site-packages/serial/serialposix.py\u001b[0m in \u001b[0;36mopen\u001b[0;34m(self)\u001b[0m\n\u001b[1;32m    321\u001b[0m         \u001b[0;32mtry\u001b[0m\u001b[0;34m:\u001b[0m\u001b[0;34m\u001b[0m\u001b[0;34m\u001b[0m\u001b[0m\n\u001b[0;32m--> 322\u001b[0;31m             \u001b[0mself\u001b[0m\u001b[0;34m.\u001b[0m\u001b[0mfd\u001b[0m \u001b[0;34m=\u001b[0m \u001b[0mos\u001b[0m\u001b[0;34m.\u001b[0m\u001b[0mopen\u001b[0m\u001b[0;34m(\u001b[0m\u001b[0mself\u001b[0m\u001b[0;34m.\u001b[0m\u001b[0mportstr\u001b[0m\u001b[0;34m,\u001b[0m \u001b[0mos\u001b[0m\u001b[0;34m.\u001b[0m\u001b[0mO_RDWR\u001b[0m \u001b[0;34m|\u001b[0m \u001b[0mos\u001b[0m\u001b[0;34m.\u001b[0m\u001b[0mO_NOCTTY\u001b[0m \u001b[0;34m|\u001b[0m \u001b[0mos\u001b[0m\u001b[0;34m.\u001b[0m\u001b[0mO_NONBLOCK\u001b[0m\u001b[0;34m)\u001b[0m\u001b[0;34m\u001b[0m\u001b[0;34m\u001b[0m\u001b[0m\n\u001b[0m\u001b[1;32m    323\u001b[0m         \u001b[0;32mexcept\u001b[0m \u001b[0mOSError\u001b[0m \u001b[0;32mas\u001b[0m \u001b[0mmsg\u001b[0m\u001b[0;34m:\u001b[0m\u001b[0;34m\u001b[0m\u001b[0;34m\u001b[0m\u001b[0m\n",
      "\u001b[0;31mFileNotFoundError\u001b[0m: [Errno 2] No such file or directory: '/dev/cu.usbserial-10'",
      "\nDuring handling of the above exception, another exception occurred:\n",
      "\u001b[0;31mSerialException\u001b[0m                           Traceback (most recent call last)",
      "\u001b[0;32m/var/folders/tm/l0kmqbhd1y5dhh1z91_y2txc0000gn/T/ipykernel_71235/4053567144.py\u001b[0m in \u001b[0;36m<module>\u001b[0;34m\u001b[0m\n\u001b[1;32m     20\u001b[0m     \u001b[0;32mreturn\u001b[0m \u001b[0mpumpdat\u001b[0m\u001b[0;34m[\u001b[0m\u001b[0;36m1\u001b[0m\u001b[0;34m:\u001b[0m\u001b[0;34m-\u001b[0m\u001b[0;36m1\u001b[0m\u001b[0;34m]\u001b[0m\u001b[0;34m\u001b[0m\u001b[0;34m\u001b[0m\u001b[0m\n\u001b[1;32m     21\u001b[0m \u001b[0;34m\u001b[0m\u001b[0m\n\u001b[0;32m---> 22\u001b[0;31m \u001b[0mserP\u001b[0m \u001b[0;34m=\u001b[0m \u001b[0mserial\u001b[0m\u001b[0;34m.\u001b[0m\u001b[0mSerial\u001b[0m\u001b[0;34m(\u001b[0m\u001b[0;34m'/dev/cu.usbserial-10'\u001b[0m\u001b[0;34m)\u001b[0m \u001b[0;31m#for SyringeOne pump StarTech attach\u001b[0m\u001b[0;34m\u001b[0m\u001b[0;34m\u001b[0m\u001b[0m\n\u001b[0m\u001b[1;32m     23\u001b[0m \u001b[0;34m\u001b[0m\u001b[0m\n\u001b[1;32m     24\u001b[0m \u001b[0mserP\u001b[0m\u001b[0;34m.\u001b[0m\u001b[0mbaudrate\u001b[0m \u001b[0;34m=\u001b[0m \u001b[0;36m19200\u001b[0m\u001b[0;34m;\u001b[0m \u001b[0mserP\u001b[0m\u001b[0;34m.\u001b[0m\u001b[0mtimeout\u001b[0m\u001b[0;34m=\u001b[0m\u001b[0;36m0.1\u001b[0m\u001b[0;34m;\u001b[0m \u001b[0mserP\u001b[0m\u001b[0;34m.\u001b[0m\u001b[0mclose\u001b[0m\u001b[0;34m(\u001b[0m\u001b[0;34m)\u001b[0m\u001b[0;34m\u001b[0m\u001b[0;34m\u001b[0m\u001b[0m\n",
      "\u001b[0;32m~/opt/anaconda3/lib/python3.9/site-packages/serial/serialutil.py\u001b[0m in \u001b[0;36m__init__\u001b[0;34m(self, port, baudrate, bytesize, parity, stopbits, timeout, xonxoff, rtscts, write_timeout, dsrdtr, inter_byte_timeout, exclusive, **kwargs)\u001b[0m\n\u001b[1;32m    242\u001b[0m \u001b[0;34m\u001b[0m\u001b[0m\n\u001b[1;32m    243\u001b[0m         \u001b[0;32mif\u001b[0m \u001b[0mport\u001b[0m \u001b[0;32mis\u001b[0m \u001b[0;32mnot\u001b[0m \u001b[0;32mNone\u001b[0m\u001b[0;34m:\u001b[0m\u001b[0;34m\u001b[0m\u001b[0;34m\u001b[0m\u001b[0m\n\u001b[0;32m--> 244\u001b[0;31m             \u001b[0mself\u001b[0m\u001b[0;34m.\u001b[0m\u001b[0mopen\u001b[0m\u001b[0;34m(\u001b[0m\u001b[0;34m)\u001b[0m\u001b[0;34m\u001b[0m\u001b[0;34m\u001b[0m\u001b[0m\n\u001b[0m\u001b[1;32m    245\u001b[0m \u001b[0;34m\u001b[0m\u001b[0m\n\u001b[1;32m    246\u001b[0m     \u001b[0;31m#  -  -  -  -  -  -  -  -  -  -  -  -  -  -  -  -  -  -  -  -  -  -  -  -\u001b[0m\u001b[0;34m\u001b[0m\u001b[0;34m\u001b[0m\u001b[0m\n",
      "\u001b[0;32m~/opt/anaconda3/lib/python3.9/site-packages/serial/serialposix.py\u001b[0m in \u001b[0;36mopen\u001b[0;34m(self)\u001b[0m\n\u001b[1;32m    323\u001b[0m         \u001b[0;32mexcept\u001b[0m \u001b[0mOSError\u001b[0m \u001b[0;32mas\u001b[0m \u001b[0mmsg\u001b[0m\u001b[0;34m:\u001b[0m\u001b[0;34m\u001b[0m\u001b[0;34m\u001b[0m\u001b[0m\n\u001b[1;32m    324\u001b[0m             \u001b[0mself\u001b[0m\u001b[0;34m.\u001b[0m\u001b[0mfd\u001b[0m \u001b[0;34m=\u001b[0m \u001b[0;32mNone\u001b[0m\u001b[0;34m\u001b[0m\u001b[0;34m\u001b[0m\u001b[0m\n\u001b[0;32m--> 325\u001b[0;31m             \u001b[0;32mraise\u001b[0m \u001b[0mSerialException\u001b[0m\u001b[0;34m(\u001b[0m\u001b[0mmsg\u001b[0m\u001b[0;34m.\u001b[0m\u001b[0merrno\u001b[0m\u001b[0;34m,\u001b[0m \u001b[0;34m\"could not open port {}: {}\"\u001b[0m\u001b[0;34m.\u001b[0m\u001b[0mformat\u001b[0m\u001b[0;34m(\u001b[0m\u001b[0mself\u001b[0m\u001b[0;34m.\u001b[0m\u001b[0m_port\u001b[0m\u001b[0;34m,\u001b[0m \u001b[0mmsg\u001b[0m\u001b[0;34m)\u001b[0m\u001b[0;34m)\u001b[0m\u001b[0;34m\u001b[0m\u001b[0;34m\u001b[0m\u001b[0m\n\u001b[0m\u001b[1;32m    326\u001b[0m         \u001b[0;31m#~ fcntl.fcntl(self.fd, fcntl.F_SETFL, 0)  # set blocking\u001b[0m\u001b[0;34m\u001b[0m\u001b[0;34m\u001b[0m\u001b[0m\n\u001b[1;32m    327\u001b[0m \u001b[0;34m\u001b[0m\u001b[0m\n",
      "\u001b[0;31mSerialException\u001b[0m: [Errno 2] could not open port /dev/cu.usbserial-10: [Errno 2] No such file or directory: '/dev/cu.usbserial-10'"
     ]
    }
   ],
   "source": [
    "# imports and definitions\n",
    "\n",
    "import time \n",
    "import threading\n",
    "import serial\n",
    "\n",
    "def btoa(bstr): #returns an ascii string from a bytes object\n",
    "    btoadat = bstr.decode('ascii')\n",
    "    return btoadat\n",
    "def atob(strb): #returns a bytes object from an ascii string\n",
    "    atobdat = strb.encode('ascii')\n",
    "    return atobdat\n",
    "\n",
    "def pumpread(ser, pumpid, cmd): # interacts with the pump\n",
    "    t_ini=(time.time())\n",
    "    ser.open()\n",
    "    ser.write(atob(str(pumpid) + str(cmd) + '\\x0D'))\n",
    "    pumpdat = btoa(ser.read_until(b'\\x03',100))\n",
    "    ser.close()\n",
    "    return pumpdat[1:-1]\n",
    "\n",
    "def getweight(ser): # interacts with the Ohaus balance\n",
    "    ser.open()\n",
    "    ser.write(b'P\\r\\n')\n",
    "    weight=float(btoa(ser2.read_until(b'\\r\\n',100)).split()[0]) #print time, too\n",
    "    ser.close()\n",
    "    return weight\n",
    "\n",
    "# name and prepare the syringe pump\n",
    "\n",
    "serP = serial.Serial('/dev/cu.usbserial-10') #for SyringeOne pump StarTech attach\n",
    "serP.baudrate = 19200; serP.timeout=0.1\n",
    "serP.close()\n",
    "\n",
    "print(pumpread(serP, 2, '*RESET')) #clears previous programs, which is not really necessary\n",
    "serP.close() "
   ]
  },
  {
   "cell_type": "code",
   "execution_count": null,
   "id": "16d503e6-aa87-4584-b17b-5a644028e73a",
   "metadata": {},
   "outputs": [],
   "source": [
    "# control pumping by weight readings\n",
    "\n",
    "# set initials\n",
    "wini=getweight(ser2) \n",
    "tini=time.time()\n",
    "tstp=time.time()\n",
    "ii=True\n",
    "\n",
    "# pump directions\n",
    "drc=['inf','wdr'] \n",
    "print('Direction:', drc[ii], '; Time:', time.time()-tini,'s')\n",
    "\n",
    "# vol in mL\n",
    "pumpread(serP,2,'rat 4.0') # pump rate\n",
    "pumpread(serP,2,'dir %s'%drc[ii]) # initial direction\n",
    "pumpread(serP,2,'run') # starts pump\n",
    "\n",
    "# loop pumping over a given time\n",
    "while (time.time()-tini)<=60: # set run time\n",
    "    if (time.time()-tstp)>=5: # checks weight every 5 sec\n",
    "        if abs(wini-getweight(ser2))>=25: # switches direction after meeting 25g change\n",
    "            pumpread(serP,2,'stp') # pauses pump\n",
    "            ii=not ii\n",
    "            print('Direction:', drc[ii], '; Time:', time.time()-tini,'s')\n",
    "            wini=getweight(ser2) # sets new initial weight once 25g has been met\n",
    "            pumpread(serP,2,'dir %s'%drc[ii]) # switches directions\n",
    "            pumpread(serP,2,'run') # restarts pump\n",
    "        tstp=time.time()\n",
    "    \n",
    "pumpread(serP,2,'stp') # pauses pump\n",
    "print('Finished at', time.time()-tini,'s')"
   ]
  },
  {
   "cell_type": "code",
   "execution_count": null,
   "id": "b69ef1e0-91c7-467a-957e-c55313f914c3",
   "metadata": {},
   "outputs": [],
   "source": [
    "# stop and close out\n",
    "\n",
    "serP.close()\n",
    "print(pumpread(serP, 2, '*RESET')) \n",
    "pumpread(serP,2,'stp')"
   ]
  }
 ],
 "metadata": {
  "kernelspec": {
   "display_name": "Python 3 (ipykernel)",
   "language": "python",
   "name": "python3"
  },
  "language_info": {
   "codemirror_mode": {
    "name": "ipython",
    "version": 3
   },
   "file_extension": ".py",
   "mimetype": "text/x-python",
   "name": "python",
   "nbconvert_exporter": "python",
   "pygments_lexer": "ipython3",
   "version": "3.9.13"
  }
 },
 "nbformat": 4,
 "nbformat_minor": 5
}
